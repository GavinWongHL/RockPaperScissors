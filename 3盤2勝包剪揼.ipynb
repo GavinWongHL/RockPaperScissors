{
 "cells": [
  {
   "cell_type": "code",
   "execution_count": 1,
   "id": "abfec714-ab9c-4402-b3e8-69173cbb4fa0",
   "metadata": {},
   "outputs": [],
   "source": [
    "# Game: Rock paper scissors\n",
    "# A program to play rock paper scissors with the computer.\n",
    "# Requirements:\n",
    "# - define rules: paper > rock, etc.\n",
    "# - computer random generate one choice\n",
    "# - player input\n",
    "# - get result from rules, return a win/ lose / draw\n",
    "# - counter of how many times player win / lose / draw\n",
    "# - play 3 rounds, if draw not count"
   ]
  },
  {
   "cell_type": "code",
   "execution_count": 2,
   "id": "2232d653-564d-4f4f-8ac3-15d6e2fe2b74",
   "metadata": {},
   "outputs": [],
   "source": [
    "# Play rock paper scissors, 3 rounds\n",
    "#\n",
    "# Round 1\n",
    "# get input from player\n",
    "# computer generate a choice\n",
    "# return result: win / lose -> print result, Draw -> replay\n",
    "#\n",
    "# repeat round 2, round 3\n",
    "# finally return overall result"
   ]
  },
  {
   "cell_type": "code",
   "execution_count": 27,
   "id": "255a5249-ecb2-4192-a7a9-a4d8fa7d5f5f",
   "metadata": {},
   "outputs": [],
   "source": [
    "def player_input():\n",
    "    while True:\n",
    "        player_input = input('rock, paper or scissors?')\n",
    "        if player_input == 'rock':\n",
    "            return 'rock'\n",
    "            break\n",
    "        elif player_input == 'paper':\n",
    "            return 'paper'\n",
    "            break\n",
    "        elif player_input == 'scissors':\n",
    "            return 'scissors'\n",
    "            break\n",
    "        else:\n",
    "            print('Please choose again')\n",
    "#if player_input in ['rock' , 'paper' , 'scissors']:\n",
    "#if player_input == 'rock' or player_input == 'paper' or player_input == 'scissors'\n",
    "#else:\n",
    "#print('invalid input, try again')\n",
    "# return player_input # once 'return', the function will be ended."
   ]
  },
  {
   "cell_type": "code",
   "execution_count": 6,
   "id": "fec70099-e43b-4395-bbca-2e94a852f5b3",
   "metadata": {},
   "outputs": [],
   "source": [
    "def computer_input():\n",
    "    import random\n",
    "    computer_input = random.choice(['rock','paper','scissors'])\n",
    "    return(computer_input)"
   ]
  },
  {
   "cell_type": "code",
   "execution_count": 37,
   "id": "b6682f68-2c8f-4f9a-b801-4d12537fc837",
   "metadata": {},
   "outputs": [],
   "source": [
    "def game():\n",
    "    \n",
    "    count_computer_win = 0\n",
    "    count_player_win = 0\n",
    "    \n",
    "    while True:\n",
    "        print('Round' + str(count_computer_win + count_player_win + 1))\n",
    "        print('-'*10)\n",
    "        player = player_input()\n",
    "        computer = computer_input()\n",
    "        win_condition = (player == 'paper' and computer == 'rock')\\\n",
    "        or (player == 'scissors' and computer == 'paper')\\\n",
    "        or (player == 'rock' and computer == 'scissors')\n",
    "        \n",
    "        print(f'Computer: {computer}')\n",
    "    \n",
    "        if player == computer:\n",
    "            print('Draw')\n",
    "            print('-'*20)\n",
    "            continue\n",
    "        elif win_condition:\n",
    "            print('Win')\n",
    "            count_player_win += 1\n",
    "            if count_player_win == 2:\n",
    "                break\n",
    "            print(f'Player win: {count_player_win}')\n",
    "            print(f'Computer win: {count_computer_win}')\n",
    "            print('-'*20)\n",
    "            continue\n",
    "        else:\n",
    "            print('Lose')\n",
    "            count_computer_win += 1\n",
    "            if count_computer_win == 2:\n",
    "                break\n",
    "            print(f'Player win: {count_player_win}')\n",
    "            print(f'Computer win: {count_computer_win}')\n",
    "            print('-'*20)\n",
    "            continue\n",
    "            \n",
    "    if count_computer_win == 2:\n",
    "        print('Game end. Computer win!')\n",
    "    else:\n",
    "        print('Game end. Player win!')"
   ]
  },
  {
   "cell_type": "code",
   "execution_count": 38,
   "id": "9310d417-e6c9-4dba-b1da-1315087826a8",
   "metadata": {},
   "outputs": [
    {
     "name": "stdout",
     "output_type": "stream",
     "text": [
      "Round1\n",
      "----------\n"
     ]
    },
    {
     "name": "stdin",
     "output_type": "stream",
     "text": [
      "rock, paper or scissors? rock\n"
     ]
    },
    {
     "name": "stdout",
     "output_type": "stream",
     "text": [
      "Computer: paper\n",
      "Lose\n",
      "Player win: 0\n",
      "Computer win: 1\n",
      "--------------------\n",
      "Round2\n",
      "----------\n"
     ]
    },
    {
     "name": "stdin",
     "output_type": "stream",
     "text": [
      "rock, paper or scissors? paper\n"
     ]
    },
    {
     "name": "stdout",
     "output_type": "stream",
     "text": [
      "Computer: paper\n",
      "Draw\n",
      "--------------------\n",
      "Round2\n",
      "----------\n"
     ]
    },
    {
     "name": "stdin",
     "output_type": "stream",
     "text": [
      "rock, paper or scissors? paper\n"
     ]
    },
    {
     "name": "stdout",
     "output_type": "stream",
     "text": [
      "Computer: scissors\n",
      "Lose\n",
      "Game end. Computer win!\n"
     ]
    }
   ],
   "source": [
    "game()"
   ]
  },
  {
   "cell_type": "code",
   "execution_count": null,
   "id": "1143de4c-537a-4fcb-8817-6781c18610d2",
   "metadata": {},
   "outputs": [],
   "source": []
  }
 ],
 "metadata": {
  "kernelspec": {
   "display_name": "Python 3 (ipykernel)",
   "language": "python",
   "name": "python3"
  },
  "language_info": {
   "codemirror_mode": {
    "name": "ipython",
    "version": 3
   },
   "file_extension": ".py",
   "mimetype": "text/x-python",
   "name": "python",
   "nbconvert_exporter": "python",
   "pygments_lexer": "ipython3",
   "version": "3.9.12"
  }
 },
 "nbformat": 4,
 "nbformat_minor": 5
}
